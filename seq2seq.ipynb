{
 "cells": [
  {
   "cell_type": "code",
   "execution_count": 219,
   "metadata": {},
   "outputs": [],
   "source": [
    "%matplotlib inline"
   ]
  },
  {
   "cell_type": "code",
   "execution_count": 218,
   "metadata": {},
   "outputs": [],
   "source": [
    "import torch\n",
    "import torch.nn as nn\n",
    "import torch.nn.functional as F\n",
    "import unicodedata\n",
    "import re\n",
    "import torch.optim as optim\n",
    "import random\n",
    "from tqdm import tqdm, tnrange, tqdm_notebook\n",
    "import matplotlib.pyplot as plt"
   ]
  },
  {
   "cell_type": "code",
   "execution_count": 2,
   "metadata": {},
   "outputs": [],
   "source": [
    "device = 'cuda' if torch.cuda.is_available() else 'cpu'"
   ]
  },
  {
   "cell_type": "code",
   "execution_count": 4,
   "metadata": {},
   "outputs": [],
   "source": [
    "SOS_TOKEN = 0\n",
    "EOS_TOKEN = 1"
   ]
  },
  {
   "cell_type": "code",
   "execution_count": 59,
   "metadata": {},
   "outputs": [],
   "source": [
    "class Lang:\n",
    "    def __init__(self, name):\n",
    "        self.name = name\n",
    "        self.word2index = dict()\n",
    "        self.word2count = {}\n",
    "        self.index2word = {0 : 'SOS', 1 : 'EOS'}\n",
    "        self.n_words = 2\n",
    "    \n",
    "    def addSentence(self, sentence):\n",
    "        for word in sentence.split(' '):\n",
    "            self.addword(word)\n",
    "    \n",
    "    def addword(self, word):\n",
    "        if word not in self.word2index:\n",
    "            self.word2index[word] = self.n_words\n",
    "            self.index2word[self.n_words] = word\n",
    "            self.word2count[word] = 1\n",
    "            self.n_words += 1\n",
    "        else:\n",
    "            self.word2count[word] += 1"
   ]
  },
  {
   "cell_type": "code",
   "execution_count": 60,
   "metadata": {},
   "outputs": [],
   "source": [
    "def unicodeToAscii(s):\n",
    "    return ''.join(c for c in unicodedata.normalize('NFD', s)\n",
    "        if unicodedata.category(c) != 'Mn'\n",
    "    )"
   ]
  },
  {
   "cell_type": "code",
   "execution_count": 61,
   "metadata": {},
   "outputs": [],
   "source": [
    "def normalizeString(s):\n",
    "    s = unicodeToAscii(s.lower().strip())\n",
    "    s = re.sub(r\"([.!?])\", r\" \\1\", s)\n",
    "    s = re.sub(r\"[^a-zA-Z.!?]+\", r\" \", s)\n",
    "    return s"
   ]
  },
  {
   "cell_type": "code",
   "execution_count": 62,
   "metadata": {},
   "outputs": [],
   "source": [
    "def readLangs(lang1, lang2, reverse=False):\n",
    "    print('Read lines')\n",
    "    \n",
    "    lines = open('fra.txt', encoding='utf-8').read().strip().split('\\n')\n",
    "    pairs = [[normalizeString(s) for s in l.split('\\t')] for l in lines]\n",
    "    \n",
    "    if reverse:\n",
    "        pairs = [list(reversed(p)) for p in pairs]\n",
    "        input_lang = Lang(lang2)\n",
    "        output_lang = Lang(lang1)\n",
    "    else:\n",
    "        input_lang = Lang(lang1)\n",
    "        output_lang = Lang(lang2)\n",
    "        \n",
    "    return input_lang, output_lang, pairs"
   ]
  },
  {
   "cell_type": "code",
   "execution_count": 63,
   "metadata": {},
   "outputs": [],
   "source": [
    "MAX_LENGTH = 15"
   ]
  },
  {
   "cell_type": "code",
   "execution_count": 64,
   "metadata": {},
   "outputs": [],
   "source": [
    "eng_prefixes = (\n",
    "    \"i am \", \"i m \",\n",
    "    \"he is\", \"he s \",\n",
    "    \"she is\", \"she s \",\n",
    "    \"you are\", \"you re \",\n",
    "    \"we are\", \"we re \",\n",
    "    \"they are\", \"they re \"\n",
    ")"
   ]
  },
  {
   "cell_type": "code",
   "execution_count": 65,
   "metadata": {},
   "outputs": [],
   "source": [
    "def filterpair(p):\n",
    "    return len(p[0].split(' ')) < MAX_LENGTH and len(p[1].split(' ')) < MAX_LENGTH and p[1].startswith(eng_prefixes)\n",
    "\n",
    "def filterPairs(pairs):\n",
    "    return [pair for pair in pairs if filterpair(pair)]"
   ]
  },
  {
   "cell_type": "code",
   "execution_count": 66,
   "metadata": {},
   "outputs": [
    {
     "name": "stdout",
     "output_type": "stream",
     "text": [
      "Read lines\n",
      "Read 169657 sentence pairs\n",
      "Trimmed to 15588 sentence pairs\n",
      "Counting words...\n",
      "Counted words:\n",
      "fra 5456\n",
      "eng 3577\n",
      "['elle est deux ans plus vieille que vous .', 'she is two years older than you .']\n"
     ]
    }
   ],
   "source": [
    "def prepareData(lang1, lang2, reverse=False):\n",
    "    input_lang, output_lang, pairs = readLangs(lang1, lang2, reverse)\n",
    "    print(\"Read %s sentence pairs\" % len(pairs))\n",
    "    pairs = filterPairs(pairs)\n",
    "    print(\"Trimmed to %s sentence pairs\" % len(pairs))\n",
    "    print(\"Counting words...\")\n",
    "    for pair in pairs:\n",
    "        input_lang.addSentence(pair[0])\n",
    "        output_lang.addSentence(pair[1])\n",
    "    print(\"Counted words:\")\n",
    "    print(input_lang.name, input_lang.n_words)\n",
    "    print(output_lang.name, output_lang.n_words)\n",
    "    return input_lang, output_lang, pairs\n",
    "\n",
    "\n",
    "input_lang, output_lang, pairs = prepareData('eng', 'fra', True)\n",
    "print(random.choice(pairs))"
   ]
  },
  {
   "cell_type": "code",
   "execution_count": 80,
   "metadata": {},
   "outputs": [],
   "source": [
    "class Encoder(nn.Module):\n",
    "    \n",
    "    def __init__(self, input_size, hidden_dim):\n",
    "        super(Encoder, self).__init__()\n",
    "        self.input_size = input_size\n",
    "        self.hidden_dim = hidden_dim\n",
    "        self.embedding = nn.Embedding(input_size, hidden_dim)\n",
    "        self.gru = nn.GRU(hidden_dim, hidden_dim)\n",
    "        \n",
    "    def forward(self, input, hidden):\n",
    "        embedded = self.embedding(input).view(1,1,-1)\n",
    "        output = embedded\n",
    "        output, hidden = self.gru(output, hidden)\n",
    "        return output, hidden\n",
    "    \n",
    "    def inithidden(self):\n",
    "        return torch.zeros(1, 1, self.hidden_dim, device=device)"
   ]
  },
  {
   "cell_type": "code",
   "execution_count": 81,
   "metadata": {},
   "outputs": [],
   "source": [
    "class Decoder(nn.Module):\n",
    "    \n",
    "    def __init__(self, hidden_dim, output_size):\n",
    "        super(Decoder, self).__init__()\n",
    "        self.output_size = output_size\n",
    "        self.hidden_dim = hidden_dim\n",
    "        self.embedding = nn.Embedding(output_size, hidden_dim)\n",
    "        self.gru = nn.GRU(hidden_dim, hidden_dim)\n",
    "        self.out = nn.Linear(hidden_dim, output_size)\n",
    "        self.softmax = nn.LogSoftmax(dim=1)\n",
    "        \n",
    "    def forward(self, input, hidden):\n",
    "        embedded = self.embedding(x).view(1, 1, -1)\n",
    "        output = F.relu(embedded)\n",
    "        output, hidden = self.gru(output, hidden)\n",
    "        output = self.softmax(self.out(output[0]))\n",
    "        return output, hidden\n",
    "    \n",
    "    def inithidden(self):\n",
    "        return torch.zeros(1, 1, self.hidden_dim, device=device)"
   ]
  },
  {
   "cell_type": "code",
   "execution_count": 82,
   "metadata": {},
   "outputs": [],
   "source": [
    "class AttentionDecoder(nn.Module):\n",
    "    \n",
    "    def __init__(self, hidden_dim, output_size, max_length=MAX_LENGTH):\n",
    "        super(AttentionDecoder, self).__init__()\n",
    "        self.hidden_dim = hidden_dim\n",
    "        self.output_size = output_size\n",
    "        self.max_length = max_length\n",
    "        \n",
    "        self.embedding = nn.Embedding(output_size, hidden_dim)\n",
    "        self.gru = nn.GRU(hidden_dim, hidden_dim)\n",
    "        self.attention = nn.Linear(hidden_dim*2, max_length)\n",
    "        self.attention_combined = nn.Linear(hidden_dim*2, hidden_dim)\n",
    "        self.out = nn.Linear(hidden_dim, output_size)\n",
    "        self.dropout = nn.Dropout(p=0.1)\n",
    "        self.softmax = nn.LogSoftmax(dim=1)\n",
    "        \n",
    "    def forward(self, input, hidden, encoder_output):\n",
    "        embedded = self.embedding(input).view(1,1,-1)\n",
    "        embedded = self.dropout(embedded)\n",
    "        \n",
    "        attention = F.softmax(self.attention(torch.cat([embedded[0], hidden[0]], dim=1)), dim=1)\n",
    "        attention_applied = torch.bmm(attention.unsqueeze(0), encoder_output.unsqueeze(0))\n",
    "        \n",
    "        output = torch.cat((embedded[0], attention_applied[0]), 1)\n",
    "        output = self.attention_combined(output).unsqueeze(0)\n",
    "        output = F.relu(output)\n",
    "        output, hidden = self.gru(output, hidden)\n",
    "        \n",
    "        output = F.log_softmax(self.out(output[0]), dim=1)\n",
    "        return output, hidden, attention\n",
    "    \n",
    "    def inithidden():\n",
    "        return torch.zeros(1, 1, self.hidden_dim, device=device)"
   ]
  },
  {
   "cell_type": "code",
   "execution_count": 75,
   "metadata": {},
   "outputs": [],
   "source": [
    "def indexesFromSentence(lang, sentence):\n",
    "    return [lang.word2index[word] for word in sentence.split(' ')]\n",
    "\n",
    "\n",
    "def tensorFromSentence(lang, sentence):\n",
    "    indexes = indexesFromSentence(lang, sentence)\n",
    "    indexes.append(EOS_TOKEN)\n",
    "    return torch.tensor(indexes, dtype=torch.long, device=device).view(-1, 1)\n",
    "\n",
    "\n",
    "def tensorsFromPair(pair):\n",
    "    input_tensor = tensorFromSentence(input_lang, pair[0])\n",
    "    target_tensor = tensorFromSentence(output_lang, pair[1])\n",
    "    return (input_tensor, target_tensor)"
   ]
  },
  {
   "cell_type": "code",
   "execution_count": 128,
   "metadata": {},
   "outputs": [],
   "source": [
    "encoder = Encoder(input_lang.n_words, 256).to(device)\n",
    "decoder = AttentionDecoder(256, output_lang.n_words).to(device)"
   ]
  },
  {
   "cell_type": "code",
   "execution_count": 129,
   "metadata": {},
   "outputs": [],
   "source": [
    "encoder_optimizer = optim.Adam(params=encoder.parameters(), lr=1e-3)\n",
    "decoder_optimizer = optim.Adam(params=decoder.parameters(), lr=1e-3)\n",
    "criterion = nn.NLLLoss()"
   ]
  },
  {
   "cell_type": "code",
   "execution_count": 138,
   "metadata": {},
   "outputs": [],
   "source": [
    "random.shuffle(pairs)"
   ]
  },
  {
   "cell_type": "code",
   "execution_count": 146,
   "metadata": {},
   "outputs": [],
   "source": [
    "def train():\n",
    "    \n",
    "    for epoch in tnrange(5, desc='epoch'):\n",
    "        \n",
    "        training_loss = 0.0\n",
    "        for ii, pair in enumerate(tqdm_notebook(pairs, desc='step')):\n",
    "            \n",
    "            loss = 0.0\n",
    "            input, target = tensorsFromPair(pair)\n",
    "            input, target = input.to(device), target.to(device)\n",
    "            input_length = input.shape[0]\n",
    "            target_length = target.shape[0]\n",
    "            \n",
    "            encoder_hidden = encoder.inithidden().to(device)\n",
    "            encoder_outputs = torch.zeros(MAX_LENGTH, 256).to(device)\n",
    "            \n",
    "            for i in range(input_length):\n",
    "                encoder_output, encoder_hidden = encoder(input[i], encoder_hidden)\n",
    "                encoder_outputs[i] = encoder_output[0,0]\n",
    "            \n",
    "            decoder_input = torch.tensor([SOS_TOKEN]).to(device).long()\n",
    "            decoder_hidden = encoder_hidden\n",
    "            \n",
    "            use_teacher_forcing = True if random.random() < 0.5 else False\n",
    "            \n",
    "            for j in range(target_length):\n",
    "                decoder_output, decoder_hidden, attention = decoder(decoder_input, decoder_hidden, encoder_outputs)\n",
    "                if use_teacher_forcing:\n",
    "                    decoder_input = target[j]\n",
    "                else:\n",
    "                    topv, topi = decoder_output.topk(1)\n",
    "                    decoder_input = topi.squeeze().detach()\n",
    "                \n",
    "                loss += criterion(decoder_output, target[j])\n",
    "                if decoder_input.item() == EOS_TOKEN:\n",
    "                    break\n",
    "\n",
    "            encoder_optimizer.zero_grad()\n",
    "            decoder_optimizer.zero_grad()\n",
    "            loss.backward()\n",
    "            encoder_optimizer.step()\n",
    "            decoder_optimizer.step()\n",
    "            \n",
    "            training_loss += loss.item() / target_length\n",
    "            \n",
    "            if (ii+1) % 1000 == 0:\n",
    "                print('Epoch %d | step %d | loss %0.4f' %(epoch+1, ii+1, training_loss / 1000))\n",
    "                training_loss = 0.0"
   ]
  },
  {
   "cell_type": "code",
   "execution_count": 236,
   "metadata": {},
   "outputs": [],
   "source": [
    "def evaluate(samples):\n",
    "    \n",
    "    eval_results = []\n",
    "    attentions = []\n",
    "    with torch.no_grad():\n",
    "        for i, sample in enumerate(tqdm_notebook(samples)):\n",
    "            input, target = tensorsFromPair(sample)\n",
    "            input = input.to(device)\n",
    "            input_length = input.shape[0]\n",
    "            \n",
    "            encoder_hidden = encoder.inithidden()\n",
    "            encoder_outputs = torch.zeros(MAX_LENGTH, 256).to(device)\n",
    "            \n",
    "            for j in range(input_length):\n",
    "                encoder_output, encoder_hidden = encoder(input[j], encoder_hidden)\n",
    "                encoder_outputs[j] = encoder_output[0,0]\n",
    "            \n",
    "            decoder_hidden = encoder_hidden\n",
    "            decoder_input = torch.tensor([SOS_TOKEN]).to(device).long()\n",
    "            \n",
    "            decoded_words = []\n",
    "            decoder_attentions = torch.zeros(MAX_LENGTH, MAX_LENGTH)\n",
    "            \n",
    "            for k in range(MAX_LENGTH):\n",
    "                decoder_output, decoder_hidden, attention = decoder(decoder_input, decoder_hidden, encoder_outputs)\n",
    "                decoder_attentions[k] = attention.data\n",
    "                topv, topi = decoder_output.topk(1)\n",
    "                decoder_input = topi.squeeze().detach()\n",
    "                if topi.item() == EOS_TOKEN:\n",
    "                    decoded_words.append('<EOS>')\n",
    "                    break\n",
    "                else:\n",
    "                    decoded_words.append(output_lang.index2word[topi.item()])\n",
    "                    \n",
    "            eval_results.append([sample[0], decoded_words, sample[1]])\n",
    "            attentions.append(decoder_attentions[:k+1])\n",
    "    \n",
    "    return eval_results, attentions"
   ]
  },
  {
   "cell_type": "code",
   "execution_count": 147,
   "metadata": {
    "scrolled": true
   },
   "outputs": [
    {
     "data": {
      "application/vnd.jupyter.widget-view+json": {
       "model_id": "69fc61099c654252973d4f4bac093f18",
       "version_major": 2,
       "version_minor": 0
      },
      "text/plain": [
       "HBox(children=(IntProgress(value=0, description='epoch', max=5, style=ProgressStyle(description_width='initial…"
      ]
     },
     "metadata": {},
     "output_type": "display_data"
    },
    {
     "data": {
      "application/vnd.jupyter.widget-view+json": {
       "model_id": "8ebc1698fce746f9986fbe1e38e61d57",
       "version_major": 2,
       "version_minor": 0
      },
      "text/plain": [
       "HBox(children=(IntProgress(value=0, description='step', max=15588, style=ProgressStyle(description_width='init…"
      ]
     },
     "metadata": {},
     "output_type": "display_data"
    },
    {
     "name": "stdout",
     "output_type": "stream",
     "text": [
      "Epoch 1 | step 1000 | loss 1.7017\n",
      "Epoch 1 | step 2000 | loss 1.6528\n",
      "Epoch 1 | step 3000 | loss 1.5856\n",
      "Epoch 1 | step 4000 | loss 2.0681\n",
      "Epoch 1 | step 5000 | loss 2.1012\n",
      "Epoch 1 | step 6000 | loss 2.0896\n",
      "Epoch 1 | step 7000 | loss 2.0207\n",
      "Epoch 1 | step 8000 | loss 2.0080\n",
      "Epoch 1 | step 9000 | loss 1.9692\n",
      "Epoch 1 | step 10000 | loss 2.0038\n",
      "Epoch 1 | step 11000 | loss 1.9672\n",
      "Epoch 1 | step 12000 | loss 1.9565\n",
      "Epoch 1 | step 13000 | loss 1.9233\n",
      "Epoch 1 | step 14000 | loss 1.8973\n",
      "Epoch 1 | step 15000 | loss 1.9754\n"
     ]
    },
    {
     "data": {
      "application/vnd.jupyter.widget-view+json": {
       "model_id": "86cc30ed1a4f42978601dac926713fa4",
       "version_major": 2,
       "version_minor": 0
      },
      "text/plain": [
       "HBox(children=(IntProgress(value=0, description='step', max=15588, style=ProgressStyle(description_width='init…"
      ]
     },
     "metadata": {},
     "output_type": "display_data"
    },
    {
     "name": "stdout",
     "output_type": "stream",
     "text": [
      "Epoch 2 | step 1000 | loss 1.6521\n",
      "Epoch 2 | step 2000 | loss 1.5799\n",
      "Epoch 2 | step 3000 | loss 1.5120\n",
      "Epoch 2 | step 4000 | loss 1.6059\n",
      "Epoch 2 | step 5000 | loss 1.6916\n",
      "Epoch 2 | step 6000 | loss 1.6553\n",
      "Epoch 2 | step 7000 | loss 1.6243\n",
      "Epoch 2 | step 8000 | loss 1.6126\n",
      "Epoch 2 | step 9000 | loss 1.6042\n",
      "Epoch 2 | step 10000 | loss 1.6242\n",
      "Epoch 2 | step 11000 | loss 1.6231\n",
      "Epoch 2 | step 12000 | loss 1.5667\n",
      "Epoch 2 | step 13000 | loss 1.5670\n",
      "Epoch 2 | step 14000 | loss 1.5596\n",
      "Epoch 2 | step 15000 | loss 1.6507\n"
     ]
    },
    {
     "data": {
      "application/vnd.jupyter.widget-view+json": {
       "model_id": "8a869147c45a428698b7bed4c02973e9",
       "version_major": 2,
       "version_minor": 0
      },
      "text/plain": [
       "HBox(children=(IntProgress(value=0, description='step', max=15588, style=ProgressStyle(description_width='init…"
      ]
     },
     "metadata": {},
     "output_type": "display_data"
    },
    {
     "name": "stdout",
     "output_type": "stream",
     "text": [
      "Epoch 3 | step 1000 | loss 1.4960\n",
      "Epoch 3 | step 2000 | loss 1.4430\n",
      "Epoch 3 | step 3000 | loss 1.3679\n",
      "Epoch 3 | step 4000 | loss 1.3831\n",
      "Epoch 3 | step 5000 | loss 1.4671\n",
      "Epoch 3 | step 6000 | loss 1.4319\n",
      "Epoch 3 | step 7000 | loss 1.4684\n",
      "Epoch 3 | step 8000 | loss 1.4512\n",
      "Epoch 3 | step 9000 | loss 1.3982\n",
      "Epoch 3 | step 10000 | loss 1.4437\n",
      "Epoch 3 | step 11000 | loss 1.4270\n",
      "Epoch 3 | step 12000 | loss 1.3770\n",
      "Epoch 3 | step 13000 | loss 1.3767\n",
      "Epoch 3 | step 14000 | loss 1.3556\n",
      "Epoch 3 | step 15000 | loss 1.4542\n"
     ]
    },
    {
     "data": {
      "application/vnd.jupyter.widget-view+json": {
       "model_id": "dd8931d494d34d8192e20ff725244306",
       "version_major": 2,
       "version_minor": 0
      },
      "text/plain": [
       "HBox(children=(IntProgress(value=0, description='step', max=15588, style=ProgressStyle(description_width='init…"
      ]
     },
     "metadata": {},
     "output_type": "display_data"
    },
    {
     "name": "stdout",
     "output_type": "stream",
     "text": [
      "Epoch 4 | step 1000 | loss 1.3580\n",
      "Epoch 4 | step 2000 | loss 1.3161\n",
      "Epoch 4 | step 3000 | loss 1.2670\n",
      "Epoch 4 | step 4000 | loss 1.3028\n",
      "Epoch 4 | step 5000 | loss 1.3454\n",
      "Epoch 4 | step 6000 | loss 1.3457\n",
      "Epoch 4 | step 7000 | loss 1.3308\n",
      "Epoch 4 | step 8000 | loss 1.3374\n",
      "Epoch 4 | step 9000 | loss 1.2998\n",
      "Epoch 4 | step 10000 | loss 1.2863\n",
      "Epoch 4 | step 11000 | loss 1.3398\n",
      "Epoch 4 | step 12000 | loss 1.2730\n",
      "Epoch 4 | step 13000 | loss 1.2464\n",
      "Epoch 4 | step 14000 | loss 1.2258\n",
      "Epoch 4 | step 15000 | loss 1.3461\n"
     ]
    },
    {
     "data": {
      "application/vnd.jupyter.widget-view+json": {
       "model_id": "500e32f744194bcc90d317c4c8d68506",
       "version_major": 2,
       "version_minor": 0
      },
      "text/plain": [
       "HBox(children=(IntProgress(value=0, description='step', max=15588, style=ProgressStyle(description_width='init…"
      ]
     },
     "metadata": {},
     "output_type": "display_data"
    },
    {
     "name": "stdout",
     "output_type": "stream",
     "text": [
      "Epoch 5 | step 1000 | loss 1.2629\n",
      "Epoch 5 | step 2000 | loss 1.2458\n",
      "Epoch 5 | step 3000 | loss 1.2178\n",
      "Epoch 5 | step 4000 | loss 1.1594\n",
      "Epoch 5 | step 5000 | loss 1.2425\n",
      "Epoch 5 | step 6000 | loss 1.2732\n",
      "Epoch 5 | step 7000 | loss 1.2968\n",
      "Epoch 5 | step 8000 | loss 1.2838\n",
      "Epoch 5 | step 9000 | loss 1.2607\n",
      "Epoch 5 | step 10000 | loss 1.2767\n",
      "Epoch 5 | step 11000 | loss 1.2363\n",
      "Epoch 5 | step 12000 | loss 1.1904\n",
      "Epoch 5 | step 13000 | loss 1.1944\n",
      "Epoch 5 | step 14000 | loss 1.1778\n",
      "Epoch 5 | step 15000 | loss 1.2742\n"
     ]
    }
   ],
   "source": [
    "train()"
   ]
  },
  {
   "cell_type": "code",
   "execution_count": 239,
   "metadata": {},
   "outputs": [],
   "source": [
    "def evalrandomly(pairs, num_samples):\n",
    "    eval_samples = random.sample(pairs, num_samples)\n",
    "    results, attention = evaluate(eval_samples)\n",
    "    \n",
    "    for input, pred, target in results:\n",
    "        print('input :', input)\n",
    "        print('Translated :', ' '.join(pred))\n",
    "        print('target :', target)\n",
    "        print('\\n')\n",
    "    \n",
    "    return results, attention"
   ]
  },
  {
   "cell_type": "code",
   "execution_count": 220,
   "metadata": {},
   "outputs": [],
   "source": [
    "import matplotlib.ticker as ticker"
   ]
  },
  {
   "cell_type": "code",
   "execution_count": 241,
   "metadata": {},
   "outputs": [],
   "source": [
    "def showattention(sentence, output_words, attentions):\n",
    "    fig = plt.figure()\n",
    "    ax = fig.add_subplot(111)\n",
    "    cax = ax.matshow(attentions.numpy(), cmap='bone')\n",
    "    fig.colorbar(cax)\n",
    "    \n",
    "    ax.set_xticklabels([''] + sentence.split(' ') + ['<EOS>'], rotation=90)\n",
    "    ax.set_yticklabels([''] + output_words)\n",
    "    \n",
    "    ax.xaxis.set_major_locator(ticker.MultipleLocator(1))\n",
    "    ax.yaxis.set_major_locator(ticker.MultipleLocator(1))\n",
    "    \n",
    "    plt.show()\n",
    "    \n",
    "def evalandshow(pairs, num_samples):\n",
    "    results, attention = evalrandomly(pairs, num_samples)\n",
    "    for i in range(num_samples):\n",
    "        showattention(results[i][0], results[i][1], attention[i])"
   ]
  },
  {
   "cell_type": "code",
   "execution_count": 243,
   "metadata": {},
   "outputs": [
    {
     "data": {
      "application/vnd.jupyter.widget-view+json": {
       "model_id": "6c97bea32f6a4707a700acbb56e8e164",
       "version_major": 2,
       "version_minor": 0
      },
      "text/plain": [
       "HBox(children=(IntProgress(value=0, max=3), HTML(value='')))"
      ]
     },
     "metadata": {},
     "output_type": "display_data"
    },
    {
     "name": "stdout",
     "output_type": "stream",
     "text": [
      "input : je suis pret quand tu l es .\n",
      "Translated : i m ready to you are . <EOS>\n",
      "target : i m ready when you are .\n",
      "\n",
      "\n",
      "input : je suis surpris que vous ignoriez cela .\n",
      "Translated : i m surprised you didn that . <EOS>\n",
      "target : i m surprised you didn t know that .\n",
      "\n",
      "\n",
      "input : je ne suis pas si presse .\n",
      "Translated : i am not in that much . <EOS>\n",
      "target : i m not in that much of a hurry .\n",
      "\n",
      "\n"
     ]
    },
    {
     "data": {
      "image/png": "[encoded data removed]",
      "text/plain": [
       "<Figure size 432x288 with 2 Axes>"
      ]
     },
     "metadata": {
      "needs_background": "light"
     },
     "output_type": "display_data"
    },
    {
     "data": {
      "image/png": "[encoded data removed]",
      "text/plain": [
       "<Figure size 432x288 with 2 Axes>"
      ]
     },
     "metadata": {
      "needs_background": "light"
     },
     "output_type": "display_data"
    },
    {
     "data": {
      "image/png": "[encoded data removed]",
      "text/plain": [
       "<Figure size 432x288 with 2 Axes>"
      ]
     },
     "metadata": {
      "needs_background": "light"
     },
     "output_type": "display_data"
    }
   ],
   "source": [
    "evalandshow(pairs, 3)"
   ]
  },
  {
   "cell_type": "code",
   "execution_count": null,
   "metadata": {},
   "outputs": [],
   "source": []
  }
 ],
 "metadata": {
  "kernelspec": {
   "display_name": "Python 3",
   "language": "python",
   "name": "python3"
  },
  "language_info": {
   "codemirror_mode": {
    "name": "ipython",
    "version": 3
   },
   "file_extension": ".py",
   "mimetype": "text/x-python",
   "name": "python",
   "nbconvert_exporter": "python",
   "pygments_lexer": "ipython3",
   "version": "3.6.8"
  }
 },
 "nbformat": 4,
 "nbformat_minor": 2
}
